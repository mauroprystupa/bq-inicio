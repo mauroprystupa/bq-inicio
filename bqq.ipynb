{
 "cells": [
  {
   "cell_type": "code",
   "execution_count": 2,
   "metadata": {},
   "outputs": [],
   "source": [
    "from google.cloud import bigquery\n"
   ]
  },
  {
   "cell_type": "code",
   "execution_count": 3,
   "metadata": {},
   "outputs": [],
   "source": [
    "import numpy as np\n",
    "import pandas as pd\n",
    "import seaborn as sb\n",
    "import matplotlib.pyplot as plt\n",
    "%matplotlib inline\n",
    "from mpl_toolkits.mplot3d import Axes3D\n",
    "from matplotlib import cm\n",
    "plt.rcParams['figure.figsize'] = (16, 9)\n",
    "plt.style.use('ggplot')\n",
    "from sklearn import linear_model\n",
    "from sklearn.metrics import mean_squared_error, r2_score"
   ]
  },
  {
   "cell_type": "markdown",
   "metadata": {},
   "source": [
    "# Predecir cuántas veces será compartido un artículo de Machine Learning."
   ]
  },
  {
   "cell_type": "markdown",
   "metadata": {},
   "source": [
    "Haremos una primer predicción de regresión lineal simple -con una sola variable predictora-  para poder graficar en 2 dimensiones (ejes X e Y) y luego un ejemplo de regresión Lineal Múltiple, en la que utilizaremos 3  dimensiones (X,Y,Z) y predicciones."
   ]
  },
  {
   "cell_type": "code",
   "execution_count": 29,
   "metadata": {},
   "outputs": [
    {
     "data": {
      "text/plain": [
       "(161, 8)"
      ]
     },
     "execution_count": 29,
     "metadata": {},
     "output_type": "execute_result"
    }
   ],
   "source": [
    "#cargamos los datos de entrada\n",
    "data = pd.read_csv(\"./articulos_ml.csv\")\n",
    "#veamos cuantas dimensiones y registros contiene\n",
    "data.shape"
   ]
  },
  {
   "cell_type": "code",
   "execution_count": 28,
   "metadata": {},
   "outputs": [
    {
     "data": {
      "text/html": [
       "<div>\n",
       "<style scoped>\n",
       "    .dataframe tbody tr th:only-of-type {\n",
       "        vertical-align: middle;\n",
       "    }\n",
       "\n",
       "    .dataframe tbody tr th {\n",
       "        vertical-align: top;\n",
       "    }\n",
       "\n",
       "    .dataframe thead th {\n",
       "        text-align: right;\n",
       "    }\n",
       "</style>\n",
       "<table border=\"1\" class=\"dataframe\">\n",
       "  <thead>\n",
       "    <tr style=\"text-align: right;\">\n",
       "      <th></th>\n",
       "      <th>Word count</th>\n",
       "      <th># of Links</th>\n",
       "      <th># of comments</th>\n",
       "      <th># Images video</th>\n",
       "      <th># Shares</th>\n",
       "    </tr>\n",
       "  </thead>\n",
       "  <tbody>\n",
       "    <tr>\n",
       "      <th>0</th>\n",
       "      <td>1888</td>\n",
       "      <td>1</td>\n",
       "      <td>2.0</td>\n",
       "      <td>2</td>\n",
       "      <td>200000</td>\n",
       "    </tr>\n",
       "    <tr>\n",
       "      <th>1</th>\n",
       "      <td>1742</td>\n",
       "      <td>9</td>\n",
       "      <td>NaN</td>\n",
       "      <td>9</td>\n",
       "      <td>25000</td>\n",
       "    </tr>\n",
       "    <tr>\n",
       "      <th>2</th>\n",
       "      <td>962</td>\n",
       "      <td>6</td>\n",
       "      <td>0.0</td>\n",
       "      <td>1</td>\n",
       "      <td>42000</td>\n",
       "    </tr>\n",
       "    <tr>\n",
       "      <th>3</th>\n",
       "      <td>1221</td>\n",
       "      <td>3</td>\n",
       "      <td>NaN</td>\n",
       "      <td>2</td>\n",
       "      <td>200000</td>\n",
       "    </tr>\n",
       "    <tr>\n",
       "      <th>4</th>\n",
       "      <td>2039</td>\n",
       "      <td>1</td>\n",
       "      <td>104.0</td>\n",
       "      <td>4</td>\n",
       "      <td>200000</td>\n",
       "    </tr>\n",
       "  </tbody>\n",
       "</table>\n",
       "</div>"
      ],
      "text/plain": [
       "   Word count  # of Links  # of comments  # Images video  # Shares\n",
       "0        1888           1            2.0               2    200000\n",
       "1        1742           9            NaN               9     25000\n",
       "2         962           6            0.0               1     42000\n",
       "3        1221           3            NaN               2    200000\n",
       "4        2039           1          104.0               4    200000"
      ]
     },
     "execution_count": 28,
     "metadata": {},
     "output_type": "execute_result"
    }
   ],
   "source": [
    "#Nos devuelve (161,8)\n",
    "#Veamos esas primeras filas:\n",
    "#son 161 registros con 8 columnas. Veamos los primeros registros\n",
    "data.head()"
   ]
  },
  {
   "cell_type": "markdown",
   "metadata": {},
   "source": [
    "Title: Titulo del Artículo\n",
    "\n",
    "url: ruta al artículo\n",
    "\n",
    "Word count: la cantidad de palabras del artículo,\n",
    "\n",
    "#of Links: los enlaces externos que contiene,\n",
    "\n",
    "#of comments: cantidad de comentarios,\n",
    "\n",
    "#Images video: suma de imágenes (o videos),\n",
    "\n",
    "Elapsed days: la cantidad de días transcurridos (al momento de crear el archivo)\n",
    "\n",
    "#Shares: nuestra columna de salida que será la “cantidad de veces que se compartió el artículo”."
   ]
  },
  {
   "cell_type": "markdown",
   "metadata": {},
   "source": [
    "Se ven algunos campos con valores NaN (nulos) por ejemplo algunas urls o en comentarios."
   ]
  },
  {
   "cell_type": "code",
   "execution_count": 26,
   "metadata": {},
   "outputs": [
    {
     "data": {
      "text/html": [
       "<div>\n",
       "<style scoped>\n",
       "    .dataframe tbody tr th:only-of-type {\n",
       "        vertical-align: middle;\n",
       "    }\n",
       "\n",
       "    .dataframe tbody tr th {\n",
       "        vertical-align: top;\n",
       "    }\n",
       "\n",
       "    .dataframe thead th {\n",
       "        text-align: right;\n",
       "    }\n",
       "</style>\n",
       "<table border=\"1\" class=\"dataframe\">\n",
       "  <thead>\n",
       "    <tr style=\"text-align: right;\">\n",
       "      <th></th>\n",
       "      <th>Word count</th>\n",
       "      <th># of Links</th>\n",
       "      <th># of comments</th>\n",
       "      <th># Images video</th>\n",
       "      <th># Shares</th>\n",
       "    </tr>\n",
       "  </thead>\n",
       "  <tbody>\n",
       "    <tr>\n",
       "      <th>count</th>\n",
       "      <td>161.000000</td>\n",
       "      <td>161.000000</td>\n",
       "      <td>129.000000</td>\n",
       "      <td>161.000000</td>\n",
       "      <td>161.000000</td>\n",
       "    </tr>\n",
       "    <tr>\n",
       "      <th>mean</th>\n",
       "      <td>1808.260870</td>\n",
       "      <td>9.739130</td>\n",
       "      <td>8.782946</td>\n",
       "      <td>3.670807</td>\n",
       "      <td>27948.347826</td>\n",
       "    </tr>\n",
       "    <tr>\n",
       "      <th>std</th>\n",
       "      <td>1141.919385</td>\n",
       "      <td>47.271625</td>\n",
       "      <td>13.142822</td>\n",
       "      <td>3.418290</td>\n",
       "      <td>43408.006839</td>\n",
       "    </tr>\n",
       "    <tr>\n",
       "      <th>min</th>\n",
       "      <td>250.000000</td>\n",
       "      <td>0.000000</td>\n",
       "      <td>0.000000</td>\n",
       "      <td>1.000000</td>\n",
       "      <td>0.000000</td>\n",
       "    </tr>\n",
       "    <tr>\n",
       "      <th>25%</th>\n",
       "      <td>990.000000</td>\n",
       "      <td>3.000000</td>\n",
       "      <td>2.000000</td>\n",
       "      <td>1.000000</td>\n",
       "      <td>2800.000000</td>\n",
       "    </tr>\n",
       "    <tr>\n",
       "      <th>50%</th>\n",
       "      <td>1674.000000</td>\n",
       "      <td>5.000000</td>\n",
       "      <td>6.000000</td>\n",
       "      <td>3.000000</td>\n",
       "      <td>16458.000000</td>\n",
       "    </tr>\n",
       "    <tr>\n",
       "      <th>75%</th>\n",
       "      <td>2369.000000</td>\n",
       "      <td>7.000000</td>\n",
       "      <td>12.000000</td>\n",
       "      <td>5.000000</td>\n",
       "      <td>35691.000000</td>\n",
       "    </tr>\n",
       "    <tr>\n",
       "      <th>max</th>\n",
       "      <td>8401.000000</td>\n",
       "      <td>600.000000</td>\n",
       "      <td>104.000000</td>\n",
       "      <td>22.000000</td>\n",
       "      <td>350000.000000</td>\n",
       "    </tr>\n",
       "  </tbody>\n",
       "</table>\n",
       "</div>"
      ],
      "text/plain": [
       "        Word count  # of Links  # of comments  # Images video       # Shares\n",
       "count   161.000000  161.000000     129.000000      161.000000     161.000000\n",
       "mean   1808.260870    9.739130       8.782946        3.670807   27948.347826\n",
       "std    1141.919385   47.271625      13.142822        3.418290   43408.006839\n",
       "min     250.000000    0.000000       0.000000        1.000000       0.000000\n",
       "25%     990.000000    3.000000       2.000000        1.000000    2800.000000\n",
       "50%    1674.000000    5.000000       6.000000        3.000000   16458.000000\n",
       "75%    2369.000000    7.000000      12.000000        5.000000   35691.000000\n",
       "max    8401.000000  600.000000     104.000000       22.000000  350000.000000"
      ]
     },
     "execution_count": 26,
     "metadata": {},
     "output_type": "execute_result"
    }
   ],
   "source": [
    "#Veamos algunas estadísticas básicas de nuestros datos de entrada:\n",
    "data.describe()"
   ]
  },
  {
   "cell_type": "markdown",
   "metadata": {},
   "source": [
    "Aqui vemos que la media de palabras en los artículos es de 1808. El artículo más corto tiene 250 palabras\n",
    "y el más extenso 8401. Intentaremos ver con nuestra relación lineal, si hay una correlación entre la cantidad\n",
    "de palabras del texto y la cantidad de Shares obtenidos."
   ]
  },
  {
   "cell_type": "code",
   "execution_count": 30,
   "metadata": {},
   "outputs": [
    {
     "name": "stderr",
     "output_type": "stream",
     "text": [
      "C:\\Users\\Mauro.Prystupa\\AppData\\Local\\Temp\\ipykernel_13772\\3496384728.py:2: FutureWarning: In a future version of pandas all arguments of DataFrame.drop except for the argument 'labels' will be keyword-only.\n",
      "  data.drop(['Title','url', 'Elapsed days'],1).hist()\n"
     ]
    },
    {
     "data": {
      "image/png": "[encoded data removed]",
      "text/plain": [
       "<Figure size 1152x648 with 6 Axes>"
      ]
     },
     "metadata": {},
     "output_type": "display_data"
    }
   ],
   "source": [
    "# Visualizamos rápidamente las caraterísticas de entrada\n",
    "data.drop(['Title','url', 'Elapsed days'],1).hist()\n",
    "plt.show()"
   ]
  },
  {
   "cell_type": "markdown",
   "metadata": {},
   "source": [
    "Vamos a filtrar los datos de cantidad de palabras para quedarnos con los registros con menos de 3500 palabras y también con los que tengan Cantidad de compartidos menos a 80.000. Lo gratificaremos pintando en azul los puntos con menos de 1808 palabras (la media) y en naranja los que tengan más."
   ]
  },
  {
   "cell_type": "code",
   "execution_count": 18,
   "metadata": {},
   "outputs": [
    {
     "data": {
      "image/png": "[encoded data removed]",
      "text/plain": [
       "<Figure size 1152x648 with 1 Axes>"
      ]
     },
     "metadata": {},
     "output_type": "display_data"
    }
   ],
   "source": [
    "# vamos a RECORTAR los datos en la zona donde se concentran mas los puntos \n",
    "# esto es en el eje X: entre 0 y 3500\n",
    "# y en el eje Y: entre 0 y 80000\n",
    "\n",
    "filter_data = data[(data['Word count'] <= 3500) & (data['# Shares']<80000)]\n",
    "# aca nos quedamos solo con los elementos que cumplen las dos condiciones\n",
    "colores = ['orange','blue']\n",
    "# declaramos un array de elementos, en el cual la posicion 0 es orange y la posicion 1 es blue\n",
    "tamanios = [ 30,60]\n",
    "# declaro un array de elementos, en el cual la posicion 0 es 30 y la posicion 1 es 60, esto me sirva para hacer mas grande las pelotitas de colores \n",
    "f1 = filter_data['Word count'].values # estos valores los guardamos es una variable para despues usarlo como uno de los ejes, es este caso el x\n",
    "f2 = filter_data['# Shares'].values # estos valores los guardamos es una variable para despues usarlo como uno de los ejes, es este caso el y\n",
    "\n",
    "#vamos a pintar en colores los puntos por debajo y por encima de la media de Cantidad de Palabras\n",
    "\n",
    "asignar=[] # Declaramos un array vacio que se va a ir completando con los elementos segun la condicion que le apliquemos abajo. \n",
    "for index, row in filter_data.iterrows():\n",
    "    if(row['Word count']>1808):\n",
    "        asignar.append(colores[0]) #todos los que esten por debajo de 1808 palabras van a ser de color orange, colores que asignamos en el array un poco mas arriba\n",
    "    else:\n",
    "        asignar.append(colores[1]) #todos los que esten por debajo de 1808 palabras van a ser de color blue, colores que asignamos en el array un poco mas arriba\n",
    "        \n",
    "plt.scatter(f1, f2, c=asignar, s=tamanios[0])\n",
    "# El metodo scatter tiene muchos parametros, vamos a usar 4.\n",
    "# f1 = x ->este parametro es obligatorio\n",
    "# f2 = y ->este parametro es obligatorio\n",
    "# c = color ->este parametro es opcional\n",
    "# s = al tamanio de los circulos ->este parametro es opcional\n",
    "\n",
    "plt.show() # muestra el grafico\n"
   ]
  },
  {
   "cell_type": "markdown",
   "metadata": {},
   "source": [
    "# Regresión Lineal con Python y SKLearn"
   ]
  },
  {
   "cell_type": "markdown",
   "metadata": {},
   "source": [
    "### Vamos a crear nuestros datos de entrada por el momento sólo Word Count y como etiquetas los # Shares. Creamos el objeto LinearRegression y lo hacemos “encajar” (entrenar) con el método fit(). Finalmente imprimimos los coeficientes y puntajes obtenidos."
   ]
  },
  {
   "cell_type": "code",
   "execution_count": 12,
   "metadata": {},
   "outputs": [
    {
     "name": "stdout",
     "output_type": "stream",
     "text": [
      "Coeficientes: [5.69765366]\n",
      "Termino Independiente: 11200.30322307416\n",
      "Error cuadrado medio: 372888728.34\n",
      "Varianza: 0.06\n"
     ]
    }
   ],
   "source": [
    "# Asignamos nuestra variable de entrada X para entrenamiento y las etiquetas Y\n",
    "\n",
    "dataX = filter_data[['Word count']] \n",
    "#armamos la variable que va a condicionar a la otra, en este caso vamos a predecir dependiendo de la cantidad de palabras que tenga nuestro articulo la cantidad de compartidas que tendra el mismo.\n",
    "x_train = np.array(dataX)\n",
    "#armamos un array con los valores que obtengamos de la variable anteriormente creada.\n",
    "y_train = filter_data['# Shares'].values\n",
    "# armamos la variable que va a ser condicionada por la variable que creamos al principio.\n",
    "# Creamos le objeto de Regresion Linear\n",
    "regr = linear_model.LinearRegression()\n",
    "#creamos la variable que va a ser nuestra variable de regresion lineal\n",
    "\n",
    "# Entrenamos nuestro modelo\n",
    "y_pred = regr.fit(x_train, y_train)\n",
    "\n",
    "# Hacemos las predicciones (en este caso al ser 2D) va a ser una linea\n",
    "y_pred = regr.predict(x_train)\n",
    "\n",
    "# Veamos los coeficientes obtenidos, En nuestro caso, serán la Tangente\n",
    "print('Coeficientes:', regr.coef_)\n",
    "\n",
    "# Este es el valor donde corta el eje Y (en X=0)\n",
    "print('Termino Independiente:', regr.intercept_)\n",
    "\n",
    "# Error Cuadrado Medio\n",
    "print(\"Error cuadrado medio: %.2f\" % mean_squared_error(y_train, y_pred))\n",
    "\n",
    "# Puntaje de Varianza. El mejor puntaje es un 1.0\n",
    "print('Varianza: %.2f' % r2_score(y_train, y_pred))"
   ]
  },
  {
   "cell_type": "markdown",
   "metadata": {},
   "source": [
    "De la ecuación de la recta y = mX + b nuestra pendiente “m” es el coeficiente 5,69 y el término independiente “b” es 11200. Tenemos un Error Cuadrático medio enorme… por lo que en realidad este modelo no será muy bueno 😉. Pero estamos aprendiendo a usarlo, que es lo que nos importa ahora 🙂. Esto también se ve reflejado en el puntaje de Varianza que debería ser cercano a 1.0."
   ]
  },
  {
   "cell_type": "markdown",
   "metadata": {},
   "source": [
    "# Predicción en regresión lineal simple"
   ]
  },
  {
   "cell_type": "code",
   "execution_count": 31,
   "metadata": {},
   "outputs": [
    {
     "name": "stdout",
     "output_type": "stream",
     "text": [
      "22595\n"
     ]
    }
   ],
   "source": [
    "#Vamos a comprobar:\n",
    "# Quiero predecir cuántos \"Shares\" voy a obtener por un artículo con 2.000 palabras,\n",
    "# según nuestro modelo, hacemos:\n",
    "y_Dosmil = regr.predict([[2000]])\n",
    "print(int(y_Dosmil))"
   ]
  },
  {
   "cell_type": "code",
   "execution_count": null,
   "metadata": {},
   "outputs": [],
   "source": []
  }
 ],
 "metadata": {
  "interpreter": {
   "hash": "b89b5cfaba6639976dc87ff2fec6d58faec662063367e2c229c520fe71072417"
  },
  "kernelspec": {
   "display_name": "Python 3.10.2 64-bit",
   "language": "python",
   "name": "python3"
  },
  "language_info": {
   "codemirror_mode": {
    "name": "ipython",
    "version": 3
   },
   "file_extension": ".py",
   "mimetype": "text/x-python",
   "name": "python",
   "nbconvert_exporter": "python",
   "pygments_lexer": "ipython3",
   "version": "3.10.2"
  },
  "orig_nbformat": 4
 },
 "nbformat": 4,
 "nbformat_minor": 2
}
